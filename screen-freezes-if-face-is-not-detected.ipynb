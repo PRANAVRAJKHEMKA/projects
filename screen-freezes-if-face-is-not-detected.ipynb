{
 "cells": [
  {
   "cell_type": "code",
   "execution_count": 3,
   "id": "3966ff84-5de9-448f-8ca6-18d7c17e4faa",
   "metadata": {},
   "outputs": [],
   "source": [
    "import cv2\n",
    "\n",
    "vface=cv2.CascadeClassifier(\"haarcascade_frontalface_default.xml\")\n",
    "\n",
    "vcap=cv2.VideoCapture(0)\n",
    "while True:\n",
    "    ret,vdata=vcap.read()\n",
    "    if not ret:\n",
    "        break\n",
    "    vdata=cv2.flip(vdata,1)\n",
    "    gray=cv2.cvtColor(vdata,cv2.COLOR_BGR2GRAY)\n",
    "    face=vface.detectMultiScale(gray,1.1,8)\n",
    "    for (x,y,w,h) in face:\n",
    "        if w>80 and h>80:\n",
    "            cv2.rectangle(vdata,(x,y),(x+w,y+h),(0,0,255),1)\n",
    "            cv2.imshow(\"FACE DETECTION  \",vdata)\n",
    "    if cv2.waitKey(1) & 0xFF==ord(\" \"):\n",
    "        break\n",
    "\n",
    "vcap.release()\n",
    "cv2.destroyAllWindows()"
   ]
  }
 ],
 "metadata": {
  "kernelspec": {
   "display_name": "Python 3 (ipykernel)",
   "language": "python",
   "name": "python3"
  },
  "language_info": {
   "codemirror_mode": {
    "name": "ipython",
    "version": 3
   },
   "file_extension": ".py",
   "mimetype": "text/x-python",
   "name": "python",
   "nbconvert_exporter": "python",
   "pygments_lexer": "ipython3",
   "version": "3.13.5"
  }
 },
 "nbformat": 4,
 "nbformat_minor": 5
}
