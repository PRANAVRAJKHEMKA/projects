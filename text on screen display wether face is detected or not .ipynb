{
 "cells": [
  {
   "cell_type": "code",
   "execution_count": 10,
   "id": "3966ff84-5de9-448f-8ca6-18d7c17e4faa",
   "metadata": {},
   "outputs": [
    {
     "name": "stdin",
     "output_type": "stream",
     "text": [
      "enter a number: 123\n"
     ]
    },
    {
     "name": "stdout",
     "output_type": "stream",
     "text": [
      "6\n"
     ]
    }
   ],
   "source": [
    "import cv2\n",
    "import mediapipe as mp\n",
    "\n",
    "face=cv2.CascadeClassifier(\"haarcascade_frontalface_default.xml\")\n",
    "mhand=mp.solutions.hands\n",
    "mdrawing=mp.solutions.drawing_utils\n",
    "\n",
    "hand=mhand.Hands(max_num_hands=4,min_detection_confidence=0.7)\n",
    "vcap=cv2.VideoCapture(0)\n",
    "while True:\n",
    "    ret,vdata=vcap.read()\n",
    "    if not ret:\n",
    "        break\n",
    "    vdata=cv2.flip(vdata,1)\n",
    "    rgb=cv2.cvtColor(vdata,cv2.COLOR_BGR2RGB)\n",
    "    result=hand.process(rgb)\n",
    "    if result.multi_hand_landmarks:\n",
    "        cv2.putText(vdata,\"Hand detected\",(20,50),cv2.FONT_HERSHEY_SIMPLEX,1,(0,0,255),2)\n",
    "        for hand_landmarks in result.multi_hand_landmarks:\n",
    "            mdrawing.draw_landmarks(vdata,hand_landmarks,mhand.HAND_CONNECTIONS)\n",
    "    gray=cv2.cvtColor(vdata,cv2.COLOR_BGR2GRAY)\n",
    "    faced = face.detectMultiScale(gray, scaleFactor=1.1, minNeighbors=8)\n",
    "    if len(faced)>0 :\n",
    "        cv2.putText(vdata,\"face detected\",(50,20),cv2.FONT_HERSHEY_SIMPLEX,1,(0,255,0),2)\n",
    "    if len(faced)==0:\n",
    "        cv2.putText(vdata,\"face not detected\",(40,100),cv2.FONT_HERSHEY_SIMPLEX,1,(0,255,0),2)\n",
    "        \n",
    "    for (x,y,w,h) in faced:\n",
    "        if w>80 and h>80:\n",
    "            cv2.rectangle(vdata,(x,y),(x+w,y+h),(0,0,255),1)\n",
    "    cv2.imshow(\"hand detection\",vdata)\n",
    "    if cv2.waitKey(1) & 0xFF==ord(\" \"):\n",
    "        break\n",
    "\n",
    "vcap.release()\n",
    "cv2.destroyAllWindows()"
   ]
  },
  {
   "cell_type": "code",
   "execution_count": null,
   "id": "5319b72d-d286-4f8e-948a-7ea26ce9e388",
   "metadata": {},
   "outputs": [],
   "source": []
  }
 ],
 "metadata": {
  "kernelspec": {
   "display_name": "Python 3 (ipykernel)",
   "language": "python",
   "name": "python3"
  },
  "language_info": {
   "codemirror_mode": {
    "name": "ipython",
    "version": 3
   },
   "file_extension": ".py",
   "mimetype": "text/x-python",
   "name": "python",
   "nbconvert_exporter": "python",
   "pygments_lexer": "ipython3",
   "version": "3.9.23"
  }
 },
 "nbformat": 4,
 "nbformat_minor": 5
}
