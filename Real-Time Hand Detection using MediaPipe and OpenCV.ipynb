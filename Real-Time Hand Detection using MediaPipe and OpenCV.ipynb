{
 "cells": [
  {
   "cell_type": "code",
   "execution_count": 6,
   "id": "d256491a-f3a4-4e40-96c8-4b98baf91d91",
   "metadata": {},
   "outputs": [],
   "source": [
    "import cv2\n",
    "import mediapipe as mp\n",
    "face_cascade=cv2.CascadeClassifier(\"haarcascade_frontalface_default.xml\")\n",
    "\n",
    "hands=mp.solutions.hands\n",
    "drawing=mp.solutions.drawing_utils\n",
    "hands = hands.Hands(max_num_hands=4,min_detection_confidence=0.7)\n",
    "vcap = cv2.VideoCapture(0)\n",
    "while True:\n",
    "    ret,vdata=vcap.read()\n",
    "    if not ret :\n",
    "        break\n",
    "  \n",
    "\n",
    "    vdata=cv2.flip(vdata,1)\n",
    "    rgb=cv2.cvtColor(vdata,cv2.COLOR_BGR2RGB)\n",
    "    result=hands.process(rgb)\n",
    "    if result.multi_hand_landmarks:\n",
    "        for hand_landmarks in result.multi_hand_landmarks:\n",
    "            drawing.draw_landmarks(vdata,hand_landmarks,hands.HAND_CONNECTIONS)\n",
    "\n",
    "    gray_image=cv2.cvtColor(vdata,cv2.COLOR_BGR2GRAY)\n",
    "    face_detect=face_cascade.detectMultiScale(gray_image,scaleFactor=1.1,minNeighbors=8)\n",
    "    for (x,y,w,h) in face_detect:\n",
    "        if w>80 and h>80 :\n",
    "            cv2.rectangle(vdata,(x,y),(x+w,y+h),(0,255,255),1)\n",
    "    \n",
    "    cv2.imshow(\"hands detection live\",vdata)\n",
    "\n",
    "    if cv2.waitKey(1) & 0xFF == ord(\" \"):\n",
    "       break\n",
    "\n",
    "vcap.release()\n",
    "cv2.destroyAllWindows()\n"
   ]
  },
  {
   "cell_type": "code",
   "execution_count": null,
   "id": "19fa0b29-6d7b-460e-b9b5-bd9427cffa21",
   "metadata": {},
   "outputs": [],
   "source": []
  }
 ],
 "metadata": {
  "kernelspec": {
   "display_name": "Python 3 (ipykernel)",
   "language": "python",
   "name": "python3"
  },
  "language_info": {
   "codemirror_mode": {
    "name": "ipython",
    "version": 3
   },
   "file_extension": ".py",
   "mimetype": "text/x-python",
   "name": "python",
   "nbconvert_exporter": "python",
   "pygments_lexer": "ipython3",
   "version": "3.9.23"
  }
 },
 "nbformat": 4,
 "nbformat_minor": 5
}
