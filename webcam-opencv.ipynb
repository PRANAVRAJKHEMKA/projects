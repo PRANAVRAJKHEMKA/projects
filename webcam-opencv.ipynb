{
 "cells": [
  {
   "cell_type": "code",
   "execution_count": 3,
   "id": "9a1ced14-826d-4eba-b8b0-38fc2a9698ed",
   "metadata": {},
   "outputs": [],
   "source": [
    "import cv2\n",
    "\n",
    "video_cap =cv2.VideoCapture(0)\n",
    "while True:\n",
    "    ret,video_data=video_cap.read()\n",
    "    cv2.imshow(\"video_live\",video_data)\n",
    "    if cv2.waitKey(1) & 0xFF == ord(\"a\"):\n",
    "        break\n",
    "video_cap.release()\n",
    "cv2.destroyAllWindows()"
   ]
  }
 ],
 "metadata": {
  "kernelspec": {
   "display_name": "Python 3 (ipykernel)",
   "language": "python",
   "name": "python3"
  },
  "language_info": {
   "codemirror_mode": {
    "name": "ipython",
    "version": 3
   },
   "file_extension": ".py",
   "mimetype": "text/x-python",
   "name": "python",
   "nbconvert_exporter": "python",
   "pygments_lexer": "ipython3",
   "version": "3.13.5"
  }
 },
 "nbformat": 4,
 "nbformat_minor": 5
}
