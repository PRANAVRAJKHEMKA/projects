{
 "cells": [
  {
   "cell_type": "code",
   "execution_count": 1,
   "id": "d256491a-f3a4-4e40-96c8-4b98baf91d91",
   "metadata": {},
   "outputs": [
    {
     "name": "stdout",
     "output_type": "stream",
     "text": [
      "filed saved as face_1755241140.jpg\n",
      "filed saved as face_1755241142.jpg\n",
      "filed saved as face_1755241148.jpg\n"
     ]
    }
   ],
   "source": [
    "import cv2\n",
    "import mediapipe as mp\n",
    "import tkinter as tk\n",
    "from tkinter import messagebox\n",
    "import time\n",
    "\n",
    "root=tk.Tk()\n",
    "root.withdraw()\n",
    "face_cascade=cv2.CascadeClassifier(\"haarcascade_frontalface_default.xml\")\n",
    "\n",
    "alert=False\n",
    "photo=False\n",
    "poptime=0\n",
    "\n",
    "def phototaken(video_data,face_detect):\n",
    "    global photo\n",
    "    for (x,y,w,h) in face_detect:\n",
    "        faceimg=video_data[y:y+h,x:x+w]\n",
    "        f=f\"face_{int(time.time())}.jpg\"\n",
    "        cv2.imwrite(f,faceimg)\n",
    "        print(f\"filed saved as {f}\")\n",
    "        photo=True\n",
    "        break\n",
    "        \n",
    "\n",
    "\n",
    "    \n",
    "def showalert():\n",
    "    global alert,poptime\n",
    "    alert=True\n",
    "    poptime=time.time()\n",
    "    messagebox.showinfo(\"alert\",\"full face detected\")\n",
    "\n",
    "mp_hands=mp.solutions.hands\n",
    "mp_drawing=mp.solutions.drawing_utils\n",
    "hands = mp_hands.Hands(max_num_hands=4,min_detection_confidence=0.7)\n",
    "video_cap = cv2.VideoCapture(0)\n",
    "while True:\n",
    "    ret,video_data=video_cap.read()\n",
    "    if not ret :\n",
    "        break\n",
    "\n",
    "    video_data=cv2.flip(video_data,1)\n",
    "    rgb=cv2.cvtColor(video_data,cv2.COLOR_BGR2RGB)\n",
    "    result=hands.process(rgb)\n",
    "    if result.multi_hand_landmarks:\n",
    "        for hand_landmarks in result.multi_hand_landmarks:\n",
    "            mp_drawing.draw_landmarks(video_data,hand_landmarks,mp_hands.HAND_CONNECTIONS)\n",
    "\n",
    "    gray_image=cv2.cvtColor(video_data,cv2.COLOR_BGR2GRAY)\n",
    "    face_detect=face_cascade.detectMultiScale(gray_image,scaleFactor=1.1,minNeighbors=8)\n",
    "    \n",
    "    if len(face_detect)>0 :\n",
    "        for (x,y,w,h) in face_detect:\n",
    "            if w>150 and h>150:\n",
    "                if time.time() - poptime >=5 :\n",
    "                    showalert()\n",
    "                    if not photo:\n",
    "                        phototaken(video_data,face_detect)\n",
    "\n",
    "            cv2.rectangle(video_data,(x,y),(x+w,y+h),(0,255,255),1)\n",
    "\n",
    "    elif len(face_detect)==0:\n",
    "        alert=False\n",
    "        photo=False\n",
    "    \n",
    "    cv2.imshow(\"hands detection live\",video_data)\n",
    "\n",
    "    if cv2.waitKey(1) & 0xFF == ord(\" \"):\n",
    "       break\n",
    "\n",
    "video_cap.release()\n",
    "cv2.destroyAllWindows()\n"
   ]
  }
 ],
 "metadata": {
  "kernelspec": {
   "display_name": "Python 3 (ipykernel)",
   "language": "python",
   "name": "python3"
  },
  "language_info": {
   "codemirror_mode": {
    "name": "ipython",
    "version": 3
   },
   "file_extension": ".py",
   "mimetype": "text/x-python",
   "name": "python",
   "nbconvert_exporter": "python",
   "pygments_lexer": "ipython3",
   "version": "3.9.23"
  }
 },
 "nbformat": 4,
 "nbformat_minor": 5
}
